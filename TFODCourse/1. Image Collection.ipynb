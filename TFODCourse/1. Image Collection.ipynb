{
 "cells": [
  {
   "cell_type": "markdown",
   "metadata": {},
   "source": [
    "# 1. Import Dependencies"
   ]
  },
  {
   "cell_type": "code",
   "execution_count": 1,
   "metadata": {},
   "outputs": [
    {
     "name": "stdout",
     "output_type": "stream",
     "text": [
      "Collecting opencv-python\n",
      "  Downloading opencv_python-4.5.4.58-cp39-cp39-macosx_10_15_x86_64.whl (45.5 MB)\n",
      "     |████████████████████████████████| 45.5 MB 35.7 MB/s            \n",
      "\u001b[?25hCollecting numpy>=1.19.3\n",
      "  Downloading numpy-1.21.3-cp39-cp39-macosx_10_9_x86_64.whl (17.0 MB)\n",
      "     |████████████████████████████████| 17.0 MB 19.6 MB/s            \n",
      "\u001b[?25hInstalling collected packages: numpy, opencv-python\n",
      "Successfully installed numpy-1.21.3 opencv-python-4.5.4.58\n"
     ]
    }
   ],
   "source": [
    "!pip install opencv-python"
   ]
  },
  {
   "cell_type": "code",
   "execution_count": 3,
   "metadata": {},
   "outputs": [],
   "source": [
    "# Import opencv\n",
    "import cv2 \n",
    "\n",
    "# Import uuid\n",
    "import uuid\n",
    "\n",
    "# Import Operating System\n",
    "import os\n",
    "\n",
    "# Import time\n",
    "import time"
   ]
  },
  {
   "cell_type": "markdown",
   "metadata": {},
   "source": [
    "# 2. Define Images to Collect"
   ]
  },
  {
   "cell_type": "code",
   "execution_count": 9,
   "metadata": {},
   "outputs": [],
   "source": [
    "labels = ['Mask']\n",
    "number_imgs = 10"
   ]
  },
  {
   "cell_type": "markdown",
   "metadata": {},
   "source": [
    "# 3. Setup Folders "
   ]
  },
  {
   "cell_type": "code",
   "execution_count": 4,
   "metadata": {},
   "outputs": [],
   "source": [
    "IMAGES_PATH = os.path.join('Tensorflow', 'workspace', 'images', 'collectedimages')"
   ]
  },
  {
   "cell_type": "code",
   "execution_count": 6,
   "metadata": {},
   "outputs": [],
   "source": [
    "if not os.path.exists(IMAGES_PATH):\n",
    "    if os.name == 'posix':\n",
    "        !mkdir -p {IMAGES_PATH}\n",
    "    if os.name == 'nt':\n",
    "         !mkdir {IMAGES_PATH}\n",
    "for label in labels:\n",
    "    path = os.path.join(IMAGES_PATH, label)\n",
    "    if not os.path.exists(path):\n",
    "        !mkdir {path}"
   ]
  },
  {
   "cell_type": "markdown",
   "metadata": {},
   "source": [
    "# 4. Capture Images"
   ]
  },
  {
   "cell_type": "code",
   "execution_count": 13,
   "metadata": {},
   "outputs": [
    {
     "name": "stdout",
     "output_type": "stream",
     "text": [
      "Collecting images for Mask\n",
      "Collecting image 0\n",
      "Collecting image 1\n",
      "Collecting image 2\n",
      "Collecting image 3\n",
      "Collecting image 4\n",
      "Collecting image 5\n",
      "Collecting image 6\n",
      "Collecting image 7\n",
      "Collecting image 8\n",
      "Collecting image 9\n"
     ]
    }
   ],
   "source": [
    "for label in labels:\n",
    "    cap = cv2.VideoCapture(0)\n",
    "    print('Collecting images for {}'.format(label))\n",
    "    time.sleep(5)\n",
    "    for imgnum in range(number_imgs):\n",
    "        print('Collecting image {}'.format(imgnum))\n",
    "        ret, frame = cap.read()\n",
    "        imgname = os.path.join(IMAGES_PATH,label,label+'.'+'{}.jpg'.format(str(uuid.uuid1())))\n",
    "        cv2.imwrite(imgname, frame)\n",
    "        cv2.imshow('frame', frame)\n",
    "        time.sleep(2)\n",
    "\n",
    "        if cv2.waitKey(1) & 0xFF == ord('q'):\n",
    "            break\n",
    "cap.release()\n",
    "cv2.destroyAllWindows()"
   ]
  },
  {
   "cell_type": "markdown",
   "metadata": {},
   "source": [
    "# 5. Image Labelling"
   ]
  },
  {
   "cell_type": "code",
   "execution_count": 1,
   "metadata": {},
   "outputs": [
    {
     "name": "stdout",
     "output_type": "stream",
     "text": [
      "Collecting pyqt5\n",
      "  Downloading PyQt5-5.15.5-cp36-abi3-macosx_10_13_x86_64.whl (7.0 MB)\n",
      "     |████████████████████████████████| 7.0 MB 3.3 MB/s            \n",
      "\u001b[?25hCollecting lxml\n",
      "  Downloading lxml-4.6.3-cp39-cp39-macosx_10_9_x86_64.whl (4.6 MB)\n",
      "     |████████████████████████████████| 4.6 MB 18.0 MB/s            \n",
      "\u001b[?25hCollecting PyQt5-sip<13,>=12.8\n",
      "  Downloading PyQt5_sip-12.9.0-cp39-cp39-macosx_10_9_x86_64.whl (63 kB)\n",
      "     |████████████████████████████████| 63 kB 6.4 MB/s             \n",
      "\u001b[?25hCollecting PyQt5-Qt5>=5.15.2\n",
      "  Downloading PyQt5_Qt5-5.15.2-py3-none-macosx_10_13_intel.whl (40.5 MB)\n",
      "     |████████████████████████████████| 40.5 MB 563 kB/s            \n",
      "\u001b[?25hInstalling collected packages: PyQt5-sip, PyQt5-Qt5, pyqt5, lxml\n",
      "Successfully installed PyQt5-Qt5-5.15.2 PyQt5-sip-12.9.0 lxml-4.6.3 pyqt5-5.15.5\n"
     ]
    }
   ],
   "source": [
    "!pip install --upgrade pyqt5 lxml"
   ]
  },
  {
   "cell_type": "code",
   "execution_count": 4,
   "metadata": {},
   "outputs": [],
   "source": [
    "LABELIMG_PATH = os.path.join('Tensorflow', 'labelimg')"
   ]
  },
  {
   "cell_type": "code",
   "execution_count": 5,
   "metadata": {},
   "outputs": [
    {
     "name": "stdout",
     "output_type": "stream",
     "text": [
      "Cloning into 'Tensorflow/labelimg'...\n",
      "remote: Enumerating objects: 1864, done.\u001b[K\n",
      "remote: Counting objects: 100% (104/104), done.\u001b[K\n",
      "remote: Compressing objects: 100% (75/75), done.\u001b[K\n",
      "remote: Total 1864 (delta 47), reused 65 (delta 24), pack-reused 1760\u001b[K\n",
      "Receiving objects: 100% (1864/1864), 232.82 MiB | 22.42 MiB/s, done.\n",
      "Resolving deltas: 100% (1094/1094), done.\n"
     ]
    }
   ],
   "source": [
    "if not os.path.exists(LABELIMG_PATH):\n",
    "    !mkdir {LABELIMG_PATH}\n",
    "    !git clone https://github.com/tzutalin/labelImg {LABELIMG_PATH}"
   ]
  },
  {
   "cell_type": "code",
   "execution_count": 6,
   "metadata": {},
   "outputs": [
    {
     "name": "stdout",
     "output_type": "stream",
     "text": [
      "pyrcc5 -o libs/resources.py resources.qrc\r\n"
     ]
    }
   ],
   "source": [
    "if os.name == 'posix':\n",
    "    !cd {LABELIMG_PATH} && make qt5py3\n",
    "if os.name =='nt':\n",
    "    !cd {LABELIMG_PATH} && pyrcc5 -o libs/resources.py resources.qrc"
   ]
  },
  {
   "cell_type": "code",
   "execution_count": null,
   "metadata": {},
   "outputs": [
    {
     "name": "stdout",
     "output_type": "stream",
     "text": [
      "/Users/simonwang/Desktop/MaskDetect/TFODCourse/Tensorflow/labelimg/labelImg.py:965: DeprecationWarning: an integer is required (got type float).  Implicit conversion to integers using __int__ is deprecated, and may be removed in a future version of Python.\n",
      "  bar.setValue(bar.value() + bar.singleStep() * units)\n",
      "Cancel creation.\n",
      "Cancel creation.\n",
      "Cancel creation.\n",
      "Cancel creation.\n",
      "Cancel creation.\n",
      "Cancel creation.\n",
      "Image:/Users/simonwang/Desktop/MaskDetect/TFODCourse/Tensorflow/workspace/images/collectedimages/Mask/Mask.6b5b96f4-33a0-11ec-981c-acde48001122.jpg -> Annotation:/Users/simonwang/Desktop/MaskDetect/TFODCourse/Tensorflow/workspace/images/collectedimages/Mask/Mask.6b5b96f4-33a0-11ec-981c-acde48001122.xml\n",
      "Cancel creation.\n",
      "Image:/Users/simonwang/Desktop/MaskDetect/TFODCourse/Tensorflow/workspace/images/collectedimages/Mask/Mask.6ca023c2-33a0-11ec-981c-acde48001122.jpg -> Annotation:/Users/simonwang/Desktop/MaskDetect/TFODCourse/Tensorflow/workspace/images/collectedimages/Mask/Mask.6ca023c2-33a0-11ec-981c-acde48001122.xml\n",
      "Cancel creation.\n",
      "Cancel creation.\n",
      "Image:/Users/simonwang/Desktop/MaskDetect/TFODCourse/Tensorflow/workspace/images/collectedimages/Mask/Mask.6ddc6de0-33a0-11ec-981c-acde48001122.jpg -> Annotation:/Users/simonwang/Desktop/MaskDetect/TFODCourse/Tensorflow/workspace/images/collectedimages/Mask/Mask.6ddc6de0-33a0-11ec-981c-acde48001122.xml\n",
      "Image:/Users/simonwang/Desktop/MaskDetect/TFODCourse/Tensorflow/workspace/images/collectedimages/Mask/Mask.6f17682c-33a0-11ec-981c-acde48001122.jpg -> Annotation:/Users/simonwang/Desktop/MaskDetect/TFODCourse/Tensorflow/workspace/images/collectedimages/Mask/Mask.6f17682c-33a0-11ec-981c-acde48001122.xml\n",
      "Image:/Users/simonwang/Desktop/MaskDetect/TFODCourse/Tensorflow/workspace/images/collectedimages/Mask/Mask.8b5f2222-33a0-11ec-981c-acde48001122.jpg -> Annotation:/Users/simonwang/Desktop/MaskDetect/TFODCourse/Tensorflow/workspace/images/collectedimages/Mask/Mask.8b5f2222-33a0-11ec-981c-acde48001122.xml\n",
      "Image:/Users/simonwang/Desktop/MaskDetect/TFODCourse/Tensorflow/workspace/images/collectedimages/Mask/Mask.8ca3dae2-33a0-11ec-981c-acde48001122.jpg -> Annotation:/Users/simonwang/Desktop/MaskDetect/TFODCourse/Tensorflow/workspace/images/collectedimages/Mask/Mask.8ca3dae2-33a0-11ec-981c-acde48001122.xml\n",
      "Image:/Users/simonwang/Desktop/MaskDetect/TFODCourse/Tensorflow/workspace/images/collectedimages/Mask/Mask.8de01fec-33a0-11ec-981c-acde48001122.jpg -> Annotation:/Users/simonwang/Desktop/MaskDetect/TFODCourse/Tensorflow/workspace/images/collectedimages/Mask/Mask.8de01fec-33a0-11ec-981c-acde48001122.xml\n",
      "Image:/Users/simonwang/Desktop/MaskDetect/TFODCourse/Tensorflow/workspace/images/collectedimages/Mask/Mask.8f1ffee0-33a0-11ec-981c-acde48001122.jpg -> Annotation:/Users/simonwang/Desktop/MaskDetect/TFODCourse/Tensorflow/workspace/images/collectedimages/Mask/Mask.8f1ffee0-33a0-11ec-981c-acde48001122.xml\n",
      "Image:/Users/simonwang/Desktop/MaskDetect/TFODCourse/Tensorflow/workspace/images/collectedimages/Mask/Mask.72c9ae8a-33a0-11ec-981c-acde48001122.jpg -> Annotation:/Users/simonwang/Desktop/MaskDetect/TFODCourse/Tensorflow/workspace/images/collectedimages/Mask/Mask.72c9ae8a-33a0-11ec-981c-acde48001122.xml\n",
      "Image:/Users/simonwang/Desktop/MaskDetect/TFODCourse/Tensorflow/workspace/images/collectedimages/Mask/Mask.92d12e60-33a0-11ec-981c-acde48001122.jpg -> Annotation:/Users/simonwang/Desktop/MaskDetect/TFODCourse/Tensorflow/workspace/images/collectedimages/Mask/Mask.92d12e60-33a0-11ec-981c-acde48001122.xml\n",
      "Image:/Users/simonwang/Desktop/MaskDetect/TFODCourse/Tensorflow/workspace/images/collectedimages/Mask/Mask.718e6aa6-33a0-11ec-981c-acde48001122.jpg -> Annotation:/Users/simonwang/Desktop/MaskDetect/TFODCourse/Tensorflow/workspace/images/collectedimages/Mask/Mask.718e6aa6-33a0-11ec-981c-acde48001122.xml\n",
      "Image:/Users/simonwang/Desktop/MaskDetect/TFODCourse/Tensorflow/workspace/images/collectedimages/Mask/Mask.753f8ffe-33a0-11ec-981c-acde48001122.jpg -> Annotation:/Users/simonwang/Desktop/MaskDetect/TFODCourse/Tensorflow/workspace/images/collectedimages/Mask/Mask.753f8ffe-33a0-11ec-981c-acde48001122.xml\n",
      "Image:/Users/simonwang/Desktop/MaskDetect/TFODCourse/Tensorflow/workspace/images/collectedimages/Mask/Mask.767ab830-33a0-11ec-981c-acde48001122.jpg -> Annotation:/Users/simonwang/Desktop/MaskDetect/TFODCourse/Tensorflow/workspace/images/collectedimages/Mask/Mask.767ab830-33a0-11ec-981c-acde48001122.xml\n",
      "Image:/Users/simonwang/Desktop/MaskDetect/TFODCourse/Tensorflow/workspace/images/collectedimages/Mask/Mask.905b89b4-33a0-11ec-981c-acde48001122.jpg -> Annotation:/Users/simonwang/Desktop/MaskDetect/TFODCourse/Tensorflow/workspace/images/collectedimages/Mask/Mask.905b89b4-33a0-11ec-981c-acde48001122.xml\n",
      "Image:/Users/simonwang/Desktop/MaskDetect/TFODCourse/Tensorflow/workspace/images/collectedimages/Mask/Mask.940d74dc-33a0-11ec-981c-acde48001122.jpg -> Annotation:/Users/simonwang/Desktop/MaskDetect/TFODCourse/Tensorflow/workspace/images/collectedimages/Mask/Mask.940d74dc-33a0-11ec-981c-acde48001122.xml\n",
      "Image:/Users/simonwang/Desktop/MaskDetect/TFODCourse/Tensorflow/workspace/images/collectedimages/Mask/Mask.9195feae-33a0-11ec-981c-acde48001122.jpg -> Annotation:/Users/simonwang/Desktop/MaskDetect/TFODCourse/Tensorflow/workspace/images/collectedimages/Mask/Mask.9195feae-33a0-11ec-981c-acde48001122.xml\n",
      "Image:/Users/simonwang/Desktop/MaskDetect/TFODCourse/Tensorflow/workspace/images/collectedimages/Mask/Mask.95486eec-33a0-11ec-981c-acde48001122.jpg -> Annotation:/Users/simonwang/Desktop/MaskDetect/TFODCourse/Tensorflow/workspace/images/collectedimages/Mask/Mask.95486eec-33a0-11ec-981c-acde48001122.xml\n",
      "Image:/Users/simonwang/Desktop/MaskDetect/TFODCourse/Tensorflow/workspace/images/collectedimages/Mask/Mask.705387b6-33a0-11ec-981c-acde48001122.jpg -> Annotation:/Users/simonwang/Desktop/MaskDetect/TFODCourse/Tensorflow/workspace/images/collectedimages/Mask/Mask.705387b6-33a0-11ec-981c-acde48001122.xml\n",
      "Image:/Users/simonwang/Desktop/MaskDetect/TFODCourse/Tensorflow/workspace/images/collectedimages/Mask/Mask.74050844-33a0-11ec-981c-acde48001122.jpg -> Annotation:/Users/simonwang/Desktop/MaskDetect/TFODCourse/Tensorflow/workspace/images/collectedimages/Mask/Mask.74050844-33a0-11ec-981c-acde48001122.xml\n",
      "Image:/Users/simonwang/Desktop/MaskDetect/TFODCourse/Tensorflow/workspace/images/collectedimages/Mask/Mask.96838490-33a0-11ec-981c-acde48001122.jpg -> Annotation:/Users/simonwang/Desktop/MaskDetect/TFODCourse/Tensorflow/workspace/images/collectedimages/Mask/Mask.96838490-33a0-11ec-981c-acde48001122.xml\n"
     ]
    }
   ],
   "source": [
    "!cd {LABELIMG_PATH} && python labelImg.py"
   ]
  },
  {
   "cell_type": "markdown",
   "metadata": {},
   "source": [
    "# 6. Move them into a Training and Testing Partition"
   ]
  },
  {
   "cell_type": "markdown",
   "metadata": {},
   "source": [
    "# OPTIONAL - 7. Compress them for Colab Training"
   ]
  },
  {
   "cell_type": "code",
   "execution_count": 20,
   "metadata": {},
   "outputs": [],
   "source": [
    "TRAIN_PATH = os.path.join('Tensorflow', 'workspace', 'images', 'train')\n",
    "TEST_PATH = os.path.join('Tensorflow', 'workspace', 'images', 'test')\n",
    "ARCHIVE_PATH = os.path.join('Tensorflow', 'workspace', 'images', 'archive.tar.gz')"
   ]
  },
  {
   "cell_type": "code",
   "execution_count": 21,
   "metadata": {},
   "outputs": [],
   "source": [
    "!tar -czf {ARCHIVE_PATH} {TRAIN_PATH} {TEST_PATH}"
   ]
  },
  {
   "cell_type": "code",
   "execution_count": null,
   "metadata": {},
   "outputs": [],
   "source": []
  }
 ],
 "metadata": {
  "kernelspec": {
   "display_name": "tfod",
   "language": "python",
   "name": "tfod"
  },
  "language_info": {
   "codemirror_mode": {
    "name": "ipython",
    "version": 3
   },
   "file_extension": ".py",
   "mimetype": "text/x-python",
   "name": "python",
   "nbconvert_exporter": "python",
   "pygments_lexer": "ipython3",
   "version": "3.9.2"
  }
 },
 "nbformat": 4,
 "nbformat_minor": 2
}
